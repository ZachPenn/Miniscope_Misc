{
 "cells": [
  {
   "cell_type": "markdown",
   "id": "37a6b546-dfc4-47cb-8756-109375878c67",
   "metadata": {},
   "source": [
    "this notebook is intended for detecting and correcting fixed horizontal stripes that arise from buffer relay errors"
   ]
  },
  {
   "cell_type": "markdown",
   "id": "baec1f8d-d2d2-4562-9cc7-56db3612a8c2",
   "metadata": {},
   "source": [
    "# load packages"
   ]
  },
  {
   "cell_type": "code",
   "execution_count": null,
   "id": "b0f8cc8c-b7f3-4971-a4ae-0b32d58401b7",
   "metadata": {},
   "outputs": [],
   "source": [
    "import cv2\n",
    "import numpy as np\n",
    "import os\n",
    "import fnmatch\n",
    "import shutil\n",
    "from matplotlib import pyplot as plt\n",
    "from scipy.signal import find_peaks, periodogram"
   ]
  },
  {
   "cell_type": "code",
   "execution_count": null,
   "id": "c83c7814-247d-4847-994b-e7eb869e5d52",
   "metadata": {},
   "outputs": [],
   "source": [
    "def detect_stripes(frame, thresh=5):\n",
    "    y = frame.mean(axis=1)\n",
    "    f, Pxx_spec = periodogram(y, 1)\n",
    "    peaks = find_peaks(np.sqrt(Pxx_spec), height=thresh)[0]\n",
    "    return any(f[peaks] > 0.03)\n",
    "\n",
    "def pad_frame(frame, video_cropped):\n",
    "    fullframe = np.zeros((608,608), dtype='uint8') #default Miniscope frame size\n",
    "    fullframe[video_cropped['h'][0]:video_cropped['h'][1], video_cropped['w'][0]:video_cropped['w'][1]] = frame\n",
    "    return fullframe\n",
    "\n",
    "def correct_stripes(frame, video_cropped, bufsize, buffertofix, offset):\n",
    "\n",
    "    #pad croppped frames to equal original frame size\n",
    "    if video_cropped is not None:\n",
    "        frame = pad_frame(frame, video_cropped)\n",
    "\n",
    "    #correct buffer\n",
    "    flatframe = frame.flatten()\n",
    "    buffermask = (np.arange(frame.shape[0] * frame.shape[1]) // bufsize % 2)+1 # labels first and second buffer\n",
    "    originalbuffer = flatframe[buffermask==buffertofix] #extract buffer to fix\n",
    "    fixedbuffer = np.roll(originalbuffer, offset)\n",
    "    flatframe[buffermask==buffertofix] = fixedbuffer\n",
    "    frame_fixed = flatframe.reshape((608,608))\n",
    "\n",
    "    #remove padding\n",
    "    if video_cropped is not None:\n",
    "        frame_fixed = frame_fixed[video_cropped['h'][0]:video_cropped['h'][1], video_cropped['w'][0]:video_cropped['w'][1]]\n",
    "    return frame_fixed"
   ]
  },
  {
   "cell_type": "markdown",
   "id": "01fc4a53-d51e-4977-9321-d19b46ece2c1",
   "metadata": {},
   "source": [
    "# set parameters"
   ]
  },
  {
   "cell_type": "code",
   "execution_count": null,
   "id": "c2464e41-1d8b-422c-b201-7e0b658a2fd9",
   "metadata": {},
   "outputs": [],
   "source": [
    "stripe_thresh = 5\n",
    "\n",
    "#if any cropping was applied to Miniscope, enter here. alternatively, set to None\n",
    "#video_croped = None\n",
    "video_cropped = {'h' : (0,600), 'w' : (0,600)} \n",
    "\n",
    "#below parameters should remain the same, but could potentially test different offsets\n",
    "bufsize = 8184\n",
    "buffertofix = 1 #1 or 2\n",
    "offset = -8184 "
   ]
  },
  {
   "cell_type": "markdown",
   "id": "49536455-44d7-4ced-947e-12bd390e14c8",
   "metadata": {},
   "source": [
    "# test correction on individual frames from single file"
   ]
  },
  {
   "cell_type": "code",
   "execution_count": null,
   "id": "88a451b1-ecf5-48e6-98a2-814411319d6e",
   "metadata": {},
   "outputs": [],
   "source": [
    "f = '/Users/zachpennington/Desktop/TestVid/Bumjin/7.avi'\n",
    "framenumber = 0"
   ]
  },
  {
   "cell_type": "code",
   "execution_count": null,
   "id": "1c67a39c-5b65-471b-9f74-fde6386b4cde",
   "metadata": {},
   "outputs": [],
   "source": [
    "cap = cv2.VideoCapture(f)\n",
    "cap.set(cv2.CAP_PROP_POS_FRAMES, framenumber) \n",
    "ret, frame = cap.read() \n",
    "frame = cv2.cvtColor(frame, cv2.COLOR_BGR2GRAY)\n",
    "\n",
    "if detect_stripes(frame, thresh=stripe_thresh):\n",
    "    frame_fixed = correct_stripes(frame, video_cropped, bufsize, buffertofix, offset)\n",
    "    plt.figure()\n",
    "    _, axarr = plt.subplots(1,2) \n",
    "    axarr[0].imshow(frame)\n",
    "    axarr[1].imshow(frame_fixed)\n",
    "else:\n",
    "    print('no stripes detected')\n",
    "    plt.imshow(frame)\n",
    "\n",
    "_=cv2.waitKey(1)\n",
    "cap.release()"
   ]
  },
  {
   "cell_type": "markdown",
   "id": "db227d4d-79fa-4362-b45e-bdc98d504398",
   "metadata": {},
   "source": [
    "# stripe correct entire video"
   ]
  },
  {
   "cell_type": "markdown",
   "id": "37719275-2814-44bc-8560-9d85917b520d",
   "metadata": {},
   "source": [
    "below, all of the avi files for a recording session are rewritten in a new folder.  \n",
    "nothing will be over-written"
   ]
  },
  {
   "cell_type": "code",
   "execution_count": null,
   "id": "4087e5ea-2660-4b42-a0bb-cdb924c6b386",
   "metadata": {},
   "outputs": [],
   "source": [
    "directory = '/Users/zachpennington/Desktop/TestVid/Bumjin/' #make sure no backslash at very end\n",
    "\n",
    "new_directory = os.path.join(os.path.split(directory)[0], '{}_destriped'.format(os.path.split(directory)[1]))\n",
    "if not os.path.exists(new_directory):\n",
    "    os.mkdir(new_directory)\n",
    "\n",
    "files = fnmatch.filter(os.listdir(directory), '*avi')\n",
    "\n",
    "for file in files:\n",
    "\n",
    "    cap = cv2.VideoCapture(os.path.join(directory, file))  \n",
    "    \n",
    "    print('checking {} for striped frames'.format(file))\n",
    "    cap_max = int(cap.get(cv2.CAP_PROP_FRAME_COUNT))\n",
    "    bad_frames = False    \n",
    "    for f in range(cap_max):\n",
    "        ret, frame = cap.read() \n",
    "        if ret:\n",
    "            frame = cv2.cvtColor(frame, cv2.COLOR_BGR2GRAY)\n",
    "            stripes = detect_stripes(frame, thresh=stripe_thresh)\n",
    "            if stripes:\n",
    "                bad_frames = True\n",
    "                break\n",
    "\n",
    "    if bad_frames:\n",
    "        print ('bad frames detected. beginning video re-write...')\n",
    "        writer = cv2.VideoWriter(\n",
    "            os.path.join(new_directory, file), \n",
    "            cv2.VideoWriter_fourcc(*'FFV1'), 30.0, (frame.shape[1], frame.shape[0]), isColor=False)\n",
    "        cap.set(cv2.CAP_PROP_POS_FRAMES, 0) \n",
    "        for f in range(cap_max):\n",
    "            ret, frame = cap.read() \n",
    "            if ret:\n",
    "                frame = cv2.cvtColor(frame, cv2.COLOR_BGR2GRAY)\n",
    "                if detect_stripes(frame, thresh=stripe_thresh):\n",
    "                    frame = correct_stripes(frame, video_cropped, bufsize, buffertofix, offset)\n",
    "                writer.write(frame)\n",
    "        writer.release()\n",
    "        \n",
    "    else:\n",
    "        print ('no bad frames dectected. copying original video to new location..')\n",
    "        shutil.copy2(\n",
    "            os.path.join(directory, file),\n",
    "            os.path.join(new_directory, file)\n",
    "        )\n",
    "    \n",
    "    cap.release()\n",
    "    print('complete\\n')"
   ]
  }
 ],
 "metadata": {
  "kernelspec": {
   "display_name": "Python 3 (ipykernel)",
   "language": "python",
   "name": "python3"
  },
  "language_info": {
   "codemirror_mode": {
    "name": "ipython",
    "version": 3
   },
   "file_extension": ".py",
   "mimetype": "text/x-python",
   "name": "python",
   "nbconvert_exporter": "python",
   "pygments_lexer": "ipython3",
   "version": "3.9.16"
  }
 },
 "nbformat": 4,
 "nbformat_minor": 5
}
